{
 "cells": [
  {
   "cell_type": "markdown",
   "metadata": {},
   "source": [
    "# Numpy\n",
    "\n"
   ]
  },
  {
   "cell_type": "code",
   "execution_count": null,
   "metadata": {},
   "outputs": [],
   "source": [
    "# pip install numpy"
   ]
  },
  {
   "cell_type": "code",
   "execution_count": 2,
   "metadata": {},
   "outputs": [],
   "source": [
    "import numpy as np"
   ]
  },
  {
   "cell_type": "code",
   "execution_count": 3,
   "metadata": {},
   "outputs": [],
   "source": [
    "import sys\n",
    "import time"
   ]
  },
  {
   "cell_type": "markdown",
   "metadata": {},
   "source": [
    "# Compare native Python List with Numpy\n",
    "1. Memory Size\n",
    "2. Time \n"
   ]
  },
  {
   "cell_type": "code",
   "execution_count": 4,
   "metadata": {},
   "outputs": [
    {
     "name": "stdout",
     "output_type": "stream",
     "text": [
      "28\n",
      "2800\n"
     ]
    }
   ],
   "source": [
    "SIZE = 100\n",
    "# Create a Python List with 100x intergers\n",
    "mylist = range(SIZE)\n",
    "print(sys.getsizeof(5)) # size of e integer in Python : 28 Byte\n",
    "print(sys.getsizeof(5) * SIZE) # size of 100 integer in Python : 2800 Byte"
   ]
  },
  {
   "cell_type": "code",
   "execution_count": 5,
   "metadata": {},
   "outputs": [
    {
     "name": "stdout",
     "output_type": "stream",
     "text": [
      "4\n",
      "400\n"
     ]
    }
   ],
   "source": [
    "# Create a Numpy Array\n",
    "numpy_array = np.arange(SIZE)\n",
    "print(numpy_array.itemsize) # size of an integer in a numpy: 4 bytes \n",
    "print(numpy_array.itemsize * SIZE) # size of 100 integer in a numpy: 400 bytes "
   ]
  },
  {
   "cell_type": "code",
   "execution_count": 6,
   "metadata": {},
   "outputs": [
    {
     "name": "stdout",
     "output_type": "stream",
     "text": [
      "Python Time  85.01935005187988\n"
     ]
    }
   ],
   "source": [
    "SIZE = 1000000\n",
    "\n",
    "# Create Python Lists\n",
    "mylist1 = range(SIZE)\n",
    "mylist2 = range(SIZE)\n",
    "\n",
    "start_time = time.time()\n",
    "result = [(x+y) for x, y in zip(mylist1, mylist2)] # sum between mylist1 and mylist2\n",
    "end_time = time.time()\n",
    "print('Python Time ', (end_time - start_time) * 1000) # 1000 for the precision"
   ]
  },
  {
   "cell_type": "code",
   "execution_count": 7,
   "metadata": {},
   "outputs": [
    {
     "name": "stdout",
     "output_type": "stream",
     "text": [
      "Python Time  10.001420974731445\n"
     ]
    }
   ],
   "source": [
    "SIZE = 1000000\n",
    "\n",
    "# Create Numpy Arrays\n",
    "array1 = np.arange(SIZE)\n",
    "array2 = np.arange(SIZE)\n",
    "\n",
    "start_time = time.time()\n",
    "\n",
    "result = array1 + array2\n",
    "\n",
    "end_time = time.time()\n",
    "\n",
    "print('Python Time ', (end_time - start_time) * 1000) # 1000 for the precision"
   ]
  },
  {
   "cell_type": "markdown",
   "metadata": {},
   "source": [
    "# Define Arrays"
   ]
  },
  {
   "cell_type": "code",
   "execution_count": 8,
   "metadata": {},
   "outputs": [
    {
     "name": "stdout",
     "output_type": "stream",
     "text": [
      "[1, 2, 3, 4, 5] <class 'list'>\n",
      "[1 2 3 4 5] <class 'numpy.ndarray'>\n",
      "[23 34 56 78] <class 'numpy.ndarray'>\n",
      "[[1 2]\n",
      " [3 4]] <class 'numpy.ndarray'>\n"
     ]
    }
   ],
   "source": [
    "# 1 - via a python native list\n",
    "mylist = [1, 2, 3, 4, 5]\n",
    "print(mylist, type(mylist))\n",
    "\n",
    "array = np.array(mylist)\n",
    "print(array, type(array))\n",
    "\n",
    "# 2. Define directly one one dimensional array\n",
    "array_1 = np.array([23, 34, 56, 78])\n",
    "print(array_1, type(array_1))\n",
    "\n",
    "# 2. Define multi dimensional array\n",
    "array_2 = np.array([[1, 2], [3, 4]])\n",
    "print(array_2, type(array_2))"
   ]
  },
  {
   "cell_type": "code",
   "execution_count": 9,
   "metadata": {},
   "outputs": [
    {
     "name": "stdout",
     "output_type": "stream",
     "text": [
      "[23. 34. 56. 78.] <class 'numpy.ndarray'>\n",
      "[[1 2]\n",
      " [3 4]] <class 'numpy.ndarray'>\n",
      "[[1.+0.j 2.+0.j]\n",
      " [3.+0.j 4.+0.j]] <class 'numpy.ndarray'>\n"
     ]
    }
   ],
   "source": [
    "# Define with specific data Types\n",
    "\n",
    "array_1 = np.array([23, 34, 56, 78], dtype = np.float64)\n",
    "print(array_1, type(array_1))\n",
    "\n",
    "array_2 = np.array([[1, 2], [3, 4]], dtype = np.int32)\n",
    "print(array_2, type(array_2))\n",
    "\n",
    "array_3 = np.array([[1, 2], [3, 4]], dtype = np.complex_)\n",
    "print(array_3, type(array_2))"
   ]
  },
  {
   "cell_type": "markdown",
   "metadata": {},
   "source": [
    "# Array Information"
   ]
  },
  {
   "cell_type": "code",
   "execution_count": 10,
   "metadata": {},
   "outputs": [
    {
     "name": "stdout",
     "output_type": "stream",
     "text": [
      "[23 34 56 78] <class 'numpy.ndarray'>\n",
      "1\n",
      "(4,)\n",
      "4\n",
      "int32\n",
      "4\n"
     ]
    }
   ],
   "source": [
    "# 2. Define directly one dimensional array\n",
    "\n",
    "array_1 = np.array([23, 34, 56, 78])\n",
    "print(array_1, type(array_1))\n",
    "\n",
    "print(array_1.ndim) # 1\n",
    "print(array_1.shape) # (4, )\n",
    "print(array_1.size) \n",
    "print(array_1.dtype)\n",
    "print(array_1.itemsize) # 4 * Bytes"
   ]
  },
  {
   "cell_type": "code",
   "execution_count": 11,
   "metadata": {},
   "outputs": [
    {
     "name": "stdout",
     "output_type": "stream",
     "text": [
      "2\n",
      "(3, 2)\n",
      "6\n",
      "int32\n",
      "4\n"
     ]
    }
   ],
   "source": [
    "# Multi dimensional Array\n",
    "array_2 = np.array([[1, 2], [3, 4], [5, 6]])\n",
    "array_2\n",
    "\n",
    "print(array_2.ndim) # 2\n",
    "print(array_2.shape) # (3, 2)\n",
    "print(array_2.size) # 6\n",
    "print(array_2.dtype) # int32\n",
    "print(array_2.itemsize) # 4 * bytes"
   ]
  },
  {
   "cell_type": "markdown",
   "metadata": {},
   "source": [
    "\n",
    "# Mathematical Operations"
   ]
  },
  {
   "cell_type": "code",
   "execution_count": 12,
   "metadata": {},
   "outputs": [
    {
     "name": "stdout",
     "output_type": "stream",
     "text": [
      "[0 1 2 3 4 5 6 7 8 9]\n",
      "[ 1  2  3  4  5  6  7  8  9 10]\n",
      "[ 1  3  5  7  9 11 13 15 17 19]\n",
      "[-1 -1 -1 -1 -1 -1 -1 -1 -1 -1]\n",
      "[ 0  2  6 12 20 30 42 56 72 90]\n",
      "[0.         0.5        0.66666667 0.75       0.8        0.83333333\n",
      " 0.85714286 0.875      0.88888889 0.9       ]\n",
      "[ 1  2  3  4  5  6  7  8  9 10]\n"
     ]
    }
   ],
   "source": [
    "a = np.arange(10) # 0-9 \n",
    "b = np.arange(1,11) # 1 - 10\n",
    "\n",
    "print(a)\n",
    "print(b)\n",
    "print(a+b)\n",
    "print(a-b)\n",
    "print(a*b)\n",
    "print(a/b)\n",
    "\n",
    "print(a+1)"
   ]
  },
  {
   "cell_type": "markdown",
   "metadata": {},
   "source": [
    "# Numpy Array Functions "
   ]
  },
  {
   "cell_type": "code",
   "execution_count": 13,
   "metadata": {},
   "outputs": [
    {
     "name": "stdout",
     "output_type": "stream",
     "text": [
      "[0.         1.         1.41421356 1.73205081 2.         2.23606798\n",
      " 2.44948974 2.64575131 2.82842712 3.        ]\n",
      "45\n",
      "0\n",
      "9\n",
      "4.5\n",
      "21\n",
      "[ 9 12]\n",
      "[ 3  7 11]\n",
      "original a:  [  5.      8.      3.      3.      2.123  45.    100.     56.87    0.   ]\n",
      "sorted a:  [  0.      2.123   3.      3.      5.      8.     45.     56.87  100.   ]\n",
      "rounded a:  [  0.     2.12   3.     3.     5.     8.    45.    56.87 100.  ]\n"
     ]
    }
   ],
   "source": [
    "a = np.arange(10) # 0-9 \n",
    "b = np.arange(1, 11) # 1 - 10\n",
    "c = np.array( [[1, 2], \n",
    "               [3, 4],\n",
    "               [5, 6]\n",
    "              ]\n",
    "              )\n",
    "\n",
    "print(np.sqrt(a))\n",
    "\n",
    "# Array Functions\n",
    "print(a.sum())\n",
    "print(a.min())\n",
    "print(a.max())\n",
    "print(a.mean())\n",
    "\n",
    "print(c.sum())\n",
    "\n",
    "# Advanced Sum\n",
    "\"\"\"\n",
    "axis = 0 -> columns\n",
    "axis = 1 -> rows\n",
    "\"\"\" \n",
    "print(c.sum(axis = 0)) # column-wise [9, 12]\n",
    "print(c.sum(axis = 1)) # row-wise [3, 7, 11]\n",
    "\n",
    "# Sorting\n",
    "a = np.array([5, 8, 3, 3, 2.123, 45, 100, 56.87, 0])\n",
    "print('original a: ', a)\n",
    "a.sort()\n",
    "print('sorted a: ', a)\n",
    "\n",
    "# Rounding\n",
    "print('rounded a: ', a.round(decimals = 2))\n"
   ]
  },
  {
   "cell_type": "markdown",
   "metadata": {},
   "source": [
    "# Accessing Items - > Slicing "
   ]
  },
  {
   "cell_type": "code",
   "execution_count": 19,
   "metadata": {},
   "outputs": [
    {
     "name": "stdout",
     "output_type": "stream",
     "text": [
      "(3, 2)\n",
      "\n",
      "[1 2]\n",
      "[3 4]\n",
      "[5 6]\n",
      "[5 6]\n",
      "\n",
      "[[5 6]\n",
      " [3 4]\n",
      " [1 2]]\n",
      "\n",
      "4\n",
      "\n",
      "[[1 2]\n",
      " [3 4]]\n"
     ]
    }
   ],
   "source": [
    "c = np.array([[1, 2], \n",
    "               [3, 4],\n",
    "               [5, 6]])\n",
    "print(c.shape)\n",
    "print()\n",
    "\n",
    "print(c[0]) # [1, 2]\n",
    "print(c[1]) # [3, 4]\n",
    "print(c[2]) # [5, 6]\n",
    "\n",
    "print(c[-1]) # [5, 6]\n",
    "print()\n",
    "\n",
    "print(c[::-1])  # rückwärts\n",
    "print()\n",
    "\n",
    "# Specific Item (row, column)\n",
    "print(c[1, 1]) # 4\n",
    "print()\n",
    "\n",
    "# Range of items\n",
    "print(c[0:2, 0:2])"
   ]
  },
  {
   "cell_type": "markdown",
   "metadata": {},
   "source": [
    "# Generate Data \n"
   ]
  },
  {
   "cell_type": "code",
   "execution_count": 20,
   "metadata": {},
   "outputs": [
    {
     "name": "stdout",
     "output_type": "stream",
     "text": [
      "[ 0  1  2  3  4  5  6  7  8  9 10 11 12 13 14 15 16 17 18 19 20 21 22 23\n",
      " 24 25 26 27 28 29]\n",
      "[10 11 12 13 14 15 16 17 18 19 20 21 22 23 24 25 26 27 28 29]\n",
      "[[0. 0. 0. 0.]\n",
      " [0. 0. 0. 0.]\n",
      " [0. 0. 0. 0.]]\n",
      "[[1. 1. 1. 1.]\n",
      " [1. 1. 1. 1.]\n",
      " [1. 1. 1. 1.]]\n",
      "[[5 5 5 5]\n",
      " [5 5 5 5]\n",
      " [5 5 5 5]]\n",
      "numbers_linspace:  [ 1.  4.  7. 10.]\n",
      "[[1. 0. 0. 0. 0.]\n",
      " [0. 1. 0. 0. 0.]\n",
      " [0. 0. 1. 0. 0.]\n",
      " [0. 0. 0. 1. 0.]\n",
      " [0. 0. 0. 0. 1.]]\n"
     ]
    }
   ],
   "source": [
    "a = np.arange(30) # 0 -29\n",
    "b = np.arange(10, 30) # 10-29\n",
    "print(a)\n",
    "print(b)\n",
    "\n",
    "zeros = np.zeros((3, 4)) # only zeroes, 3x rows, 4x columns\n",
    "print(zeros)\n",
    "\n",
    "ones = np.ones((3, 4)) # only ones, 3x rows, 4x columns\n",
    "print(ones)\n",
    "\n",
    "number = np.full( (3, 4), 5) # fill the array with specific value (5), 3x rows, 4x columns \n",
    "print(number)\n",
    "\n",
    "numbers_linspace = np.linspace(1, 10, 4) # 4 numbers between 1 and 10, equidistant\n",
    "print('numbers_linspace: ', numbers_linspace)\n",
    "\n",
    "# Indentit< Matrix\n",
    "numbers = np.eye(5)\n",
    "print(numbers)"
   ]
  },
  {
   "cell_type": "markdown",
   "metadata": {},
   "source": [
    "# Reshaping / Shaping "
   ]
  },
  {
   "cell_type": "code",
   "execution_count": 6,
   "metadata": {},
   "outputs": [
    {
     "name": "stdout",
     "output_type": "stream",
     "text": [
      "\n",
      "[[1 2]\n",
      " [3 4]\n",
      " [5 6]]\n",
      "\n",
      "(3, 2)\n",
      "\n",
      "[[1 2 3]\n",
      " [4 5 6]]\n",
      "\n",
      "(2, 3)\n",
      "\n",
      "[[1]\n",
      " [2]\n",
      " [3]\n",
      " [4]\n",
      " [5]\n",
      " [6]]\n",
      "\n",
      "(6, 1)\n",
      "\n",
      "[1 2 3 4 5 6]\n",
      "\n",
      "(6,)\n",
      "\n",
      "[1 2 3 4 5 6]\n",
      "\n",
      "(6,)\n"
     ]
    }
   ],
   "source": [
    "import numpy as np\n",
    "a = np.array([ [1,2],\n",
    "               [3,4],\n",
    "               [5,6]])\n",
    "\n",
    "print()\n",
    "print(a)\n",
    "print()\n",
    "print(a.shape)\n",
    "print()\n",
    "\n",
    "# 1. Reshape to 2x3\n",
    "\n",
    "b = a.reshape(2,3)\n",
    "print(b)\n",
    "print()\n",
    "print(b.shape)\n",
    "\n",
    "# 2. Reshape to 6x1\n",
    "print()\n",
    "c = a.reshape(6, 1)\n",
    "print(c)\n",
    "print()\n",
    "print(c.shape)\n",
    "\n",
    "# 3. Reshape to a vector\n",
    "print()\n",
    "d = a.reshape(6, )\n",
    "print(d)\n",
    "print()\n",
    "print(d.shape)\n",
    "print()\n",
    "\n",
    "# Alternative zu 3\n",
    "# 4 Flatten\n",
    "result = a.ravel()\n",
    "print(result)\n",
    "print()\n",
    "print(result.shape)\n"
   ]
  },
  {
   "cell_type": "markdown",
   "metadata": {},
   "source": [
    "# Random "
   ]
  },
  {
   "cell_type": "code",
   "execution_count": 8,
   "metadata": {},
   "outputs": [],
   "source": [
    "from numpy import random"
   ]
  },
  {
   "cell_type": "code",
   "execution_count": 12,
   "metadata": {},
   "outputs": [
    {
     "name": "stdout",
     "output_type": "stream",
     "text": [
      "67 <class 'int'>\n",
      "\n",
      "[ 3 87 42 30 95] <class 'numpy.ndarray'>\n",
      "\n",
      "[[95.63942912 25.05456923 94.83001274]\n",
      " [88.65087424 26.14048074 32.6711983 ]] <class 'numpy.ndarray'>\n",
      "\n",
      "[0.78729708 0.14369471 0.91939156 0.39276138 0.4103295  0.99805395\n",
      " 0.70182441 0.7294542  0.97140241 0.86274572]\n",
      "\n",
      "[46.96172328 40.87036817 49.70239371 59.71602441 79.57043144 46.39390751\n",
      " 45.80004186 39.75250721 47.26065201 51.01779531 50.6433184  45.86359692\n",
      " 47.08734671 57.7051109  48.03525568 64.3411301  60.84448317 43.32221126\n",
      " 44.55008302 51.29616916 61.56207324 63.22345313 49.70676861 59.76181337\n",
      " 41.10355227 54.21060684 64.83806188 66.45505129 44.19681066 59.91177624\n",
      " 40.1493174  54.4507867  43.37260223 56.44945304 40.43247144 53.08737639\n",
      " 48.38548878 47.81853867 51.43668505 56.78800109 42.41429098 59.9088732\n",
      " 44.60371252 31.46448291 38.24343851 54.24011883 46.98903727 40.14677184\n",
      " 46.03557722 48.01808424]\n"
     ]
    }
   ],
   "source": [
    "# a single random integer\n",
    "x = random.randint(100)\n",
    "print(x, type(x))\n",
    "print()\n",
    "\n",
    "# 1x dim random array with integers\n",
    "x = random.randint(100, size=(5,))\n",
    "print(x, type(x))\n",
    "print()\n",
    "\n",
    "# m x n random array with integers\n",
    "x = random.uniform(100, size=(2,3))\n",
    "print(x, type(x))\n",
    "print()\n",
    "\n",
    "# Create a numpy array with 10 random float values between 0 and 1\n",
    "random_floats = np.random.rand(10)\n",
    "print(random_floats)\n",
    "print()\n",
    "\n",
    "# Create a normal distribution with 50 random values\n",
    "normal_distribution = np.random.normal(50, 10, size = 50)\n",
    "print(normal_distribution)\n",
    "\n"
   ]
  },
  {
   "cell_type": "code",
   "execution_count": 13,
   "metadata": {},
   "outputs": [
    {
     "name": "stdout",
     "output_type": "stream",
     "text": [
      "1\n",
      "\n",
      "[7 9 8]\n",
      "\n",
      "[[4 3]\n",
      " [6 7]\n",
      " [3 3]]\n"
     ]
    }
   ],
   "source": [
    "# Choice\n",
    "my_list = [1, 2, 3, 4, 5, 6, 7, 8, 9]\n",
    "\n",
    "# single choice\n",
    "x = np.random.choice(my_list)\n",
    "print(x)\n",
    "print()\n",
    "\n",
    "# 3 x choices\n",
    "x = np.random.choice(my_list, size = (3,))\n",
    "print(x)\n",
    "print()\n",
    "\n",
    "# [n x m ] choices\n",
    "x = np.random.choice(my_list, size = (3, 2))\n",
    "print(x)"
   ]
  },
  {
   "cell_type": "markdown",
   "metadata": {},
   "source": [
    "# View"
   ]
  },
  {
   "cell_type": "code",
   "execution_count": 15,
   "metadata": {},
   "outputs": [
    {
     "name": "stdout",
     "output_type": "stream",
     "text": [
      "[1 2 3 4 5]\n",
      "[1 2 3 4 5]\n",
      "\n",
      "[10  2  3  4  5]\n",
      "[10  2  3  4  5]\n",
      "\n",
      "[10  2 33  4  5]\n",
      "[10  2 33  4  5]\n"
     ]
    }
   ],
   "source": [
    "original = np.array([1, 2, 3, 4, 5])\n",
    "\n",
    "view = original # this is just a view -> b will refer to the same container as a \n",
    "\n",
    "print(view)\n",
    "print(original)\n",
    "print()\n",
    "\n",
    "# a change the original array\n",
    "original[0] = 10\n",
    "print(original)\n",
    "\n",
    "# will produce a chamge in the view b\n",
    "print(view)\n",
    "print()\n",
    "\n",
    "# a change in view will produce a change in the original variable\n",
    "view[2] = 33\n",
    "print(view)\n",
    "\n",
    "print(original)"
   ]
  },
  {
   "cell_type": "markdown",
   "metadata": {},
   "source": [
    "# Copy"
   ]
  },
  {
   "cell_type": "code",
   "execution_count": 16,
   "metadata": {},
   "outputs": [
    {
     "name": "stdout",
     "output_type": "stream",
     "text": [
      "[1 2 3 4 5]\n",
      "[1 2 3 4 5]\n",
      "\n",
      "[  1 100   3   4   5]\n",
      "[1 2 3 4 5]\n",
      "\n",
      "[   1    2    3    4 1000]\n",
      "[  1 100   3   4   5]\n"
     ]
    }
   ],
   "source": [
    "original = np.array([1, 2, 3, 4, 5])\n",
    "copied = original.copy() # create different container with the same view\n",
    "\n",
    "print(original)\n",
    "print(copied)\n",
    "print()\n",
    "\n",
    "original[1] = 100\n",
    "print(original)\n",
    "print(copied)\n",
    "print()\n",
    "\n",
    "copied[-1] = 1000\n",
    "print(copied)\n",
    "print(original)"
   ]
  },
  {
   "cell_type": "markdown",
   "metadata": {},
   "source": [
    "# Vertical Stack "
   ]
  },
  {
   "cell_type": "code",
   "execution_count": 17,
   "metadata": {},
   "outputs": [
    {
     "data": {
      "text/plain": [
       "array([[ 1,  2],\n",
       "       [ 3,  4],\n",
       "       [ 5,  6],\n",
       "       [11, 22],\n",
       "       [33, 44],\n",
       "       [55, 66]])"
      ]
     },
     "execution_count": 17,
     "metadata": {},
     "output_type": "execute_result"
    }
   ],
   "source": [
    "a = np.array([ [1, 2],\n",
    "               [3, 4],\n",
    "               [5, 6]])\n",
    "\n",
    "\n",
    "b = np.array([ [11, 22],\n",
    "               [33, 44],\n",
    "               [55, 66]])\n",
    "\n",
    "result = np.vstack( (a, b)) # Vertical Stacking\n",
    "result\n"
   ]
  },
  {
   "cell_type": "markdown",
   "metadata": {},
   "source": [
    "# Horizontal Stacking"
   ]
  },
  {
   "cell_type": "code",
   "execution_count": 18,
   "metadata": {},
   "outputs": [
    {
     "data": {
      "text/plain": [
       "array([[ 1,  2, 11, 22],\n",
       "       [ 3,  4, 33, 44],\n",
       "       [ 5,  6, 55, 66]])"
      ]
     },
     "execution_count": 18,
     "metadata": {},
     "output_type": "execute_result"
    }
   ],
   "source": [
    "a = np.array([ [1, 2],\n",
    "               [3, 4],\n",
    "               [5, 6]])\n",
    "\n",
    "\n",
    "b = np.array([ [11, 22],\n",
    "               [33, 44],\n",
    "               [55, 66]])\n",
    "\n",
    "result = np.hstack( (a, b)) # Horizontal Stacking\n",
    "result"
   ]
  },
  {
   "cell_type": "markdown",
   "metadata": {},
   "source": [
    "# Transpose()"
   ]
  },
  {
   "cell_type": "code",
   "execution_count": 19,
   "metadata": {},
   "outputs": [
    {
     "name": "stdout",
     "output_type": "stream",
     "text": [
      "[[1 2]\n",
      " [3 4]\n",
      " [5 6]]\n",
      "\n",
      "[[1 3 5]\n",
      " [2 4 6]]\n"
     ]
    }
   ],
   "source": [
    "a = np.array([ [1, 2],\n",
    "               [3, 4],\n",
    "               [5, 6]])\n",
    "\n",
    "print(a)\n",
    "print()\n",
    "\n",
    "result = a.T # Transpose\n",
    "print(result)"
   ]
  },
  {
   "cell_type": "markdown",
   "metadata": {},
   "source": [
    "# Where()"
   ]
  },
  {
   "cell_type": "code",
   "execution_count": 20,
   "metadata": {},
   "outputs": [
    {
     "name": "stdout",
     "output_type": "stream",
     "text": [
      "(array([3, 4], dtype=int64),)\n"
     ]
    }
   ],
   "source": [
    "a = np.array([1,2,3,4,5])\n",
    "b = np.array([10,3,2,4,5])\n",
    "\n",
    "# The position where a == b\n",
    "print(np.where(a == b))\n",
    "\n"
   ]
  }
 ],
 "metadata": {
  "kernelspec": {
   "display_name": "Python 3.11.5 64-bit",
   "language": "python",
   "name": "python3"
  },
  "language_info": {
   "codemirror_mode": {
    "name": "ipython",
    "version": 3
   },
   "file_extension": ".py",
   "mimetype": "text/x-python",
   "name": "python",
   "nbconvert_exporter": "python",
   "pygments_lexer": "ipython3",
   "version": "3.11.5"
  },
  "orig_nbformat": 4,
  "vscode": {
   "interpreter": {
    "hash": "9ccc6a538a0da06e903987474074493caf94daa74ed2a90c8f8989e97d2dea89"
   }
  }
 },
 "nbformat": 4,
 "nbformat_minor": 2
}
