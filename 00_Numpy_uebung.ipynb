{
 "cells": [
  {
   "attachments": {},
   "cell_type": "markdown",
   "metadata": {},
   "source": [
    "# Übungsaufgabe 1: Array-Erstellung\n",
    "Erstelle ein NumPy-Array mit den Werten [1, 2, 3, 4, 5]."
   ]
  },
  {
   "cell_type": "code",
   "execution_count": 1,
   "metadata": {},
   "outputs": [
    {
     "name": "stdout",
     "output_type": "stream",
     "text": [
      "[1 2 3 4 5] <class 'numpy.ndarray'>\n"
     ]
    }
   ],
   "source": [
    "import numpy as np\n",
    "array_1 = np.array([1, 2, 3, 4, 5])\n",
    "print(array_1, type(array_1))"
   ]
  },
  {
   "attachments": {},
   "cell_type": "markdown",
   "metadata": {},
   "source": [
    "# Übungsaufgabe 2: Array-Operationen\n",
    "## Gegeben das Array [1, 2, 3, 4, 5], führe folgende Operationen aus:\n",
    "### a) Multipliziere alle Elemente mit 2.\n",
    "### b) Quadriere alle Elemente.\n",
    "### c) Berechne die Summe aller Elemente.\n",
    "### d) Finde den maximalen Wert im Array."
   ]
  },
  {
   "cell_type": "code",
   "execution_count": 2,
   "metadata": {},
   "outputs": [
    {
     "name": "stdout",
     "output_type": "stream",
     "text": [
      "array_1:  [1 2 3 4 5]\n",
      "2 x multiplied array : [ 2  4  6  8 10]\n",
      "squared_array:  [ 1  4  9 16 25]\n",
      "sum_array:  15\n",
      "maximal_value  5\n"
     ]
    }
   ],
   "source": [
    "\n",
    "array_1 = np.array([1, 2, 3, 4, 5])\n",
    "print('array_1: ', array_1)\n",
    "\n",
    "# a) Multipliziere alle Elemente mit 2.\n",
    "print('2 x multiplied array :', array_1*2)\n",
    "\n",
    "# b) Quadriere alle Elemente.\n",
    "squared_array = np.square(array_1)\n",
    "print('squared_array: ', squared_array)\n",
    "\n",
    "\n",
    "# c) Berechne die Summe aller Elemente.\n",
    "print('sum_array: ', array_1.sum())\n",
    "\n",
    "# d) Finde den maximalen Wert im Array.\n",
    "print('maximal_value ', array_1.max())\n",
    "\n"
   ]
  },
  {
   "attachments": {},
   "cell_type": "markdown",
   "metadata": {},
   "source": [
    "# Übungsaufgabe 3: Array-Indizierung und -Slicing\n",
    "Gegeben das Array [1, 2, 3, 4, 5], führe folgendes aus:\n",
    "\n",
    "a) Rufe das Element an Index 2 ab.\n",
    "\n",
    "b) Rufe die Elemente von Index 1 bis 3 ab.\n",
    "\n",
    "c) Rufe die letzten beiden Elemente ab."
   ]
  },
  {
   "cell_type": "code",
   "execution_count": 3,
   "metadata": {},
   "outputs": [
    {
     "name": "stdout",
     "output_type": "stream",
     "text": [
      "array_1:  [1 2 3 4 5]\n",
      "3\n",
      "[2 3]\n",
      "[4 5]\n"
     ]
    }
   ],
   "source": [
    "a = np.array([1, 2, 3, 4, 5])\n",
    "print('array_1: ', array_1)\n",
    "\n",
    "# a) Rufe das Element an Index 2 ab.\n",
    "print(a[2])\n",
    "\n",
    "# b) Rufe die Elemente von Index 1 bis 3 ab.\n",
    "print(a[1:3])\n",
    "\n",
    "# c) Rufe die letzten beiden Elemente ab.\n",
    "print(a[-2:])"
   ]
  },
  {
   "attachments": {},
   "cell_type": "markdown",
   "metadata": {},
   "source": [
    "# Übungsaufgabe 4: Arrays umformen (Reshaping)\n",
    "Gegeben das Array [[1, 2, 3], [4, 5, 6]], forme es in ein 3x2-Array um.\n"
   ]
  },
  {
   "cell_type": "code",
   "execution_count": 4,
   "metadata": {},
   "outputs": [
    {
     "name": "stdout",
     "output_type": "stream",
     "text": [
      "original_array: \n",
      " [[1 2 3]\n",
      " [4 5 6]]\n",
      "\n",
      "array_reshaped: \n",
      " [[1 2]\n",
      " [3 4]\n",
      " [5 6]]\n"
     ]
    }
   ],
   "source": [
    "\n",
    "b = np.array([[1, 2, 3], [4, 5, 6]])\n",
    "print('original_array: \\n', b)\n",
    "print()\n",
    "c = b.reshape(3, 2)\n",
    "print('array_reshaped: \\n', c)\n"
   ]
  },
  {
   "attachments": {},
   "cell_type": "markdown",
   "metadata": {},
   "source": [
    "# Übungsaufgabe 5: Array-Aggregation\n",
    "Gegeben das Array [[1, 2, 3], [4, 5, 6]], berechne folgendes:\n",
    "\n",
    "a) Berechne den Mittelwert aller Elemente.\n",
    "\n",
    "b) Berechne die Summe jeder Spalte.\n",
    "\n",
    "c) Berechne das Produkt jeder Zeile."
   ]
  },
  {
   "cell_type": "code",
   "execution_count": 6,
   "metadata": {},
   "outputs": [
    {
     "name": "stdout",
     "output_type": "stream",
     "text": [
      "original_array: \n",
      " [[1 2 3]\n",
      " [4 5 6]]\n",
      "\n",
      "mean:  3.5\n",
      "sum:  [5 7 9]\n",
      "product:  [  6 120]\n"
     ]
    }
   ],
   "source": [
    "b = np.array([[1, 2, 3], [4, 5, 6]])\n",
    "print('original_array: \\n', b)\n",
    "print()\n",
    "\n",
    "# a) Berechne den Mittelwert aller Elemente.\n",
    "print('mean: ', np.mean(b))\n",
    "\n",
    "# b) Berechne die Summe jeder Spalte ('stolbetc/row').\n",
    "print('sum: ', np.sum(b, axis=0))\n",
    "\n",
    "# c) Berechne das Produkt jeder Zeile ('stroka/column').\n",
    "print('product: ', np.prod(b, axis=1))\n"
   ]
  },
  {
   "attachments": {},
   "cell_type": "markdown",
   "metadata": {},
   "source": [
    "# Übungsaufgabe 6: \n",
    "Gegeben die Arrays [1, 2, 3] und [4, 5, 6], addiere sie "
   ]
  },
  {
   "cell_type": "code",
   "execution_count": 44,
   "metadata": {},
   "outputs": [
    {
     "name": "stdout",
     "output_type": "stream",
     "text": [
      "[5 7 9]\n"
     ]
    }
   ],
   "source": [
    "a = np.array([1,2,3]) \n",
    "b = np.array([4,5,6])\n",
    "c = a + b\n",
    "print(c)"
   ]
  },
  {
   "attachments": {},
   "cell_type": "markdown",
   "metadata": {},
   "source": [
    "# Übungsaufgabe 7: Array-Filterung\n",
    "Gegeben das Array [1, 2, 3, 4, 5], filtere die Elemente heraus, die größer als 3 sind."
   ]
  },
  {
   "cell_type": "code",
   "execution_count": 46,
   "metadata": {},
   "outputs": [
    {
     "name": "stdout",
     "output_type": "stream",
     "text": [
      "[4 5]\n"
     ]
    }
   ],
   "source": [
    "\n",
    "a = np.array([1, 2, 3, 4, 5])\n",
    "print(a[a>3])\n"
   ]
  },
  {
   "attachments": {},
   "cell_type": "markdown",
   "metadata": {},
   "source": [
    "# Übungsaufgabe 8: Array-Sortierung\n",
    "Gegeben das Array [5, 3, 1, 4, 2], sortiere es in aufsteigender Reihenfolge."
   ]
  },
  {
   "cell_type": "code",
   "execution_count": 49,
   "metadata": {},
   "outputs": [
    {
     "name": "stdout",
     "output_type": "stream",
     "text": [
      "original array : [5 3 1 4 2]\n",
      "sorted array : [1 2 3 4 5]\n"
     ]
    }
   ],
   "source": [
    "\n",
    "c = np.array([5, 3, 1, 4, 2])\n",
    "print('original array :', c)\n",
    "\n",
    "c.sort()\n",
    "print('sorted array :', c)"
   ]
  },
  {
   "attachments": {},
   "cell_type": "markdown",
   "metadata": {},
   "source": [
    "# Übungsaufgabe 9: Arrays stapeln (Stacking)\n",
    "Gegeben die Arrays [1, 2, 3] und [4, 5, 6], stapel sie vertikal."
   ]
  },
  {
   "cell_type": "code",
   "execution_count": 57,
   "metadata": {},
   "outputs": [
    {
     "name": "stdout",
     "output_type": "stream",
     "text": [
      "stacked_array: \n",
      " [[1 2 3]\n",
      " [4 5 6]]\n"
     ]
    }
   ],
   "source": [
    "\n",
    "a = np.array([1, 2, 3])\n",
    "b = np.array([4, 5, 6])\n",
    "\n",
    "stacked_array = np.vstack((a, b))\n",
    "print('stacked_array: \\n', stacked_array)\n"
   ]
  },
  {
   "attachments": {},
   "cell_type": "markdown",
   "metadata": {},
   "source": [
    "# Übungsaufgabe 10: Zufallszahlenerzeugung\n",
    "Erzeuge eine 3x3-Matrix mit Zufallszahlen zwischen 0 und 1."
   ]
  },
  {
   "cell_type": "code",
   "execution_count": 60,
   "metadata": {},
   "outputs": [
    {
     "name": "stdout",
     "output_type": "stream",
     "text": [
      "3x3 matrix with random numbers between 0 und 1: \n",
      " [[0.74993879 0.05747027 0.26823077]\n",
      " [0.87196573 0.91590852 0.02344137]\n",
      " [0.75970338 0.57898413 0.35674817]]\n"
     ]
    }
   ],
   "source": [
    "\n",
    "d = np.random.random((3,3))\n",
    "print('3x3 matrix with random numbers between 0 und 1: \\n', d)\n"
   ]
  }
 ],
 "metadata": {
  "kernelspec": {
   "display_name": "Python 3.11.5 64-bit",
   "language": "python",
   "name": "python3"
  },
  "language_info": {
   "codemirror_mode": {
    "name": "ipython",
    "version": 3
   },
   "file_extension": ".py",
   "mimetype": "text/x-python",
   "name": "python",
   "nbconvert_exporter": "python",
   "pygments_lexer": "ipython3",
   "version": "3.11.5"
  },
  "orig_nbformat": 4,
  "vscode": {
   "interpreter": {
    "hash": "9ccc6a538a0da06e903987474074493caf94daa74ed2a90c8f8989e97d2dea89"
   }
  }
 },
 "nbformat": 4,
 "nbformat_minor": 2
}
